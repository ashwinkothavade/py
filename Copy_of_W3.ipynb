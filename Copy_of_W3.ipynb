{
  "nbformat": 4,
  "nbformat_minor": 0,
  "metadata": {
    "colab": {
      "provenance": [],
      "include_colab_link": true
    },
    "kernelspec": {
      "name": "python3",
      "display_name": "Python 3"
    },
    "language_info": {
      "name": "python"
    }
  },
  "cells": [
    {
      "cell_type": "markdown",
      "metadata": {
        "id": "view-in-github",
        "colab_type": "text"
      },
      "source": [
        "<a href=\"https://colab.research.google.com/github/ashwinkothavade/py/blob/master/Copy_of_W3.ipynb\" target=\"_parent\"><img src=\"https://colab.research.google.com/assets/colab-badge.svg\" alt=\"Open In Colab\"/></a>"
      ]
    },
    {
      "cell_type": "markdown",
      "source": [
        "# SA-2023 WEEK 3 GRADED ASSIGNMENT\n",
        "\n",
        "> Spaceship Titanic\n",
        "\n",
        "Predict which passengers are transported to an alternate dimension\n",
        "\n",
        "![](https://www.gannett-cdn.com/-mm-/682bf77435754aee88576469063388a7d8b07c2a/c=0-150-1280-873/local/-/media/2017/02/01/Reno/RGJ/636215634914521096-image001.jpg?width=660&height=373&fit=crop&format=pjpg&auto=webp)\n"
      ],
      "metadata": {
        "id": "8LmHV7W9GevP"
      }
    },
    {
      "cell_type": "markdown",
      "source": [
        "### <b>Description</b>\n",
        "\n",
        "Welcome to the year 2912, where your data science skills are needed to solve a cosmic mystery. We've received a transmission from four lightyears away and things aren't looking good.\n",
        "\n",
        "The Spaceship Titanic was an interstellar passenger liner launched a month ago. With almost 13,000 passengers on board, the vessel set out on its maiden voyage transporting emigrants from our solar system to three newly habitable exoplanets orbiting nearby stars.\n",
        "\n",
        "While rounding Alpha Centauri en route to its first destination—the torrid 55 Cancri E—the unwary Spaceship Titanic collided with a spacetime anomaly hidden within a dust cloud. Sadly, it met a similar fate as its namesake from 1000 years before. Though the ship stayed intact, almost half of the passengers were transported to an alternate dimension!"
      ],
      "metadata": {
        "id": "oLt5SCtVJpr3"
      }
    },
    {
      "cell_type": "markdown",
      "source": [
        "### <b>Data description</b>\n",
        "\n",
        "- Personal records for about two-thirds (~8700) of the passengers, to be used as training data.\n",
        "- <code>PassengerId</code> - A unique Id for each passenger. Each Id takes the form gggg_pp where gggg indicates a group the passenger is travelling with and pp is their number within the group. People in a group are often family members, but not always.\n",
        "- <code>HomePlanet</code> - The planet the passenger departed from, typically their planet of permanent residence.\n",
        "- <code>CryoSleep</code> - Indicates whether the passenger elected to be put into suspended animation for the duration of the voyage. Passengers in cryosleep are confined to their cabins.\n",
        "- <code>Cabin</code> - The cabin number where the passenger is staying. Takes the form deck/num/side, where side can be either P for Port or S for Starboard.\n",
        "- <code>Destination</code> - The planet the passenger will be debarking to.\n",
        "- <code>Age</code> - The age of the passenger.\n",
        "- <code>VIP</code> - Whether the passenger has paid for special VIP service during the voyage.\n",
        "- <code>RoomService, FoodCourt, ShoppingMall, Spa, VRDeck</code> - Amount the passenger has billed at each of the Spaceship Titanic's many luxury amenities.\n",
        "- <code>Name</code> - The first and last names of the passenger.\n",
        "- <code>Transported</code> - Whether the passenger was transported to another dimension. This is the target, the column you are trying to predict.\n"
      ],
      "metadata": {
        "id": "y9Gca7_uNwH0"
      }
    },
    {
      "cell_type": "markdown",
      "source": [
        "### <b>Algorithm Documentation</b> (Highly recommended!)\n",
        "- <code>Logistic Regression</code> : https://scikit-learn.org/stable/modules/generated/sklearn.linear_model.LogisticRegression.html\n",
        "- <code>SVM</code> : https://scikit-learn.org/stable/modules/svm.html\n",
        "Confusion Matrix : https://scikit-learn.org/stable/modules/generated/sklearn.metrics.confusion_matrix.html\n",
        "- <code>Plot Confusion Matrix</code> : https://scikit-learn.org/stable/modules/generated/sklearn.metrics.plot_confusion_matrix.html\n",
        "- <code>ROC_AUC Score</code> : https://scikit-learn.org/stable/modules/generated/sklearn.metrics.roc_auc_score.html#sklearn.metrics.roc_auc_score\n",
        "- <code>Classification Report</code> : https://scikit-learn.org/stable/modules/generated/sklearn.metrics.classification_report.html\n",
        "- <code>Label Encoder</code> : https://scikit-learn.org/stable/modules/generated/sklearn.preprocessing.LabelEncoder.html\n",
        "- <code>Label Binarizer</code> : https://scikit-learn.org/stable/modules/generated/sklearn.preprocessing.LabelBinarizer.html\n",
        "- <code>Standard Scaler</code> : https://scikit-learn.org/stable/modules/generated/sklearn.preprocessing.StandardScaler.html\n",
        "- <code>Cross Val Score</code> : https://scikit-learn.org/stable/modules/generated/sklearn.model_selection.cross_val_score.html"
      ],
      "metadata": {
        "id": "QFtglLAEN18g"
      }
    },
    {
      "cell_type": "markdown",
      "source": [
        "# <span><h1 style = \"font-family: garamond; font-size: 40px; font-style: normal; letter-spcaing: 3px; background-color: #f6f5f5; color :#fe346e; border-radius: 100px 100px; text-align:center\">Install Required Libraries</h1></span>"
      ],
      "metadata": {
        "id": "v7NbAQfaPzYu"
      }
    },
    {
      "cell_type": "code",
      "source": [
        "## ======== YOUR CODE HERE ======== ##\n",
        "\n",
        "## Import numpy, pandas, matplotlib, seaborn\n",
        "import numpy as np\n",
        "import pandas as pd\n",
        "import matplotlib as plt\n",
        "import seaborn as sns\n",
        "\n",
        "\n",
        "\n",
        "## Import Logistic regression and SVC\n",
        "\n",
        "\n",
        "\n",
        "## Import Confusion matrix, plot confusion matrix, classification report, accuracy score, auc-roc score and roc curve\n",
        "\n",
        "\n",
        "\n",
        "## Import Label encoder, label binarizer and Standard Scaler\n",
        "\n",
        "\n",
        "\n",
        "## ================================ ##\n",
        "\n",
        "from sklearn.model_selection import train_test_split\n",
        "from sklearn.model_selection import cross_val_score\n",
        "import warnings\n",
        "warnings.filterwarnings(\"ignore\")"
      ],
      "metadata": {
        "id": "xoIlRrQsOGUu"
      },
      "execution_count": null,
      "outputs": []
    },
    {
      "cell_type": "markdown",
      "source": [
        "#### Read the data"
      ],
      "metadata": {
        "id": "UH9QQTGtQR-O"
      }
    },
    {
      "cell_type": "code",
      "source": [
        "## ======== YOUR CODE HERE ======== ##\n",
        "\n",
        "# Use df as the dataframe name throughout the notebook.\n",
        "\n",
        "df = pd.read_csv(\"/content/dataw3.csv\")\n",
        "df.head()\n",
        "\n",
        "## ================================ ##"
      ],
      "metadata": {
        "id": "-zjNPzaNJh0J",
        "outputId": "ef9c8541-dc6f-462f-c15b-61f427b132ab",
        "colab": {
          "base_uri": "https://localhost:8080/",
          "height": 206
        }
      },
      "execution_count": null,
      "outputs": [
        {
          "output_type": "execute_result",
          "data": {
            "text/plain": [
              "  PassengerId HomePlanet  CryoSleep  Cabin Destination  Age    VIP  \\\n",
              "0     0001_01     Europa      False  B/0/P   Andromeda   39  False   \n",
              "1     0002_01      Earth      False  F/0/S   Andromeda   24  False   \n",
              "2     0003_01     Europa      False  A/0/S   Andromeda   58   True   \n",
              "3     0003_02     Europa      False  A/0/S   Andromeda   33  False   \n",
              "4     0004_01      Earth      False  F/1/S   Andromeda   16  False   \n",
              "\n",
              "   RoomService  FoodCourt  ShoppingMall   Spa  VRDeck               Name  \\\n",
              "0            0          0             0     0       0    Maham Ofracculy   \n",
              "1          109          9            25   549      44       Juanna Vines   \n",
              "2           43       3576             0  6715      49      Altark Susent   \n",
              "3            0       1283           371  3329     193       Solam Susent   \n",
              "4          303         70           151   565       2  Willy Santantines   \n",
              "\n",
              "   Transported  \n",
              "0        False  \n",
              "1         True  \n",
              "2        False  \n",
              "3        False  \n",
              "4         True  "
            ],
            "text/html": [
              "\n",
              "  <div id=\"df-a0edd64a-48ad-459d-a208-ccac163e6e88\">\n",
              "    <div class=\"colab-df-container\">\n",
              "      <div>\n",
              "<style scoped>\n",
              "    .dataframe tbody tr th:only-of-type {\n",
              "        vertical-align: middle;\n",
              "    }\n",
              "\n",
              "    .dataframe tbody tr th {\n",
              "        vertical-align: top;\n",
              "    }\n",
              "\n",
              "    .dataframe thead th {\n",
              "        text-align: right;\n",
              "    }\n",
              "</style>\n",
              "<table border=\"1\" class=\"dataframe\">\n",
              "  <thead>\n",
              "    <tr style=\"text-align: right;\">\n",
              "      <th></th>\n",
              "      <th>PassengerId</th>\n",
              "      <th>HomePlanet</th>\n",
              "      <th>CryoSleep</th>\n",
              "      <th>Cabin</th>\n",
              "      <th>Destination</th>\n",
              "      <th>Age</th>\n",
              "      <th>VIP</th>\n",
              "      <th>RoomService</th>\n",
              "      <th>FoodCourt</th>\n",
              "      <th>ShoppingMall</th>\n",
              "      <th>Spa</th>\n",
              "      <th>VRDeck</th>\n",
              "      <th>Name</th>\n",
              "      <th>Transported</th>\n",
              "    </tr>\n",
              "  </thead>\n",
              "  <tbody>\n",
              "    <tr>\n",
              "      <th>0</th>\n",
              "      <td>0001_01</td>\n",
              "      <td>Europa</td>\n",
              "      <td>False</td>\n",
              "      <td>B/0/P</td>\n",
              "      <td>Andromeda</td>\n",
              "      <td>39</td>\n",
              "      <td>False</td>\n",
              "      <td>0</td>\n",
              "      <td>0</td>\n",
              "      <td>0</td>\n",
              "      <td>0</td>\n",
              "      <td>0</td>\n",
              "      <td>Maham Ofracculy</td>\n",
              "      <td>False</td>\n",
              "    </tr>\n",
              "    <tr>\n",
              "      <th>1</th>\n",
              "      <td>0002_01</td>\n",
              "      <td>Earth</td>\n",
              "      <td>False</td>\n",
              "      <td>F/0/S</td>\n",
              "      <td>Andromeda</td>\n",
              "      <td>24</td>\n",
              "      <td>False</td>\n",
              "      <td>109</td>\n",
              "      <td>9</td>\n",
              "      <td>25</td>\n",
              "      <td>549</td>\n",
              "      <td>44</td>\n",
              "      <td>Juanna Vines</td>\n",
              "      <td>True</td>\n",
              "    </tr>\n",
              "    <tr>\n",
              "      <th>2</th>\n",
              "      <td>0003_01</td>\n",
              "      <td>Europa</td>\n",
              "      <td>False</td>\n",
              "      <td>A/0/S</td>\n",
              "      <td>Andromeda</td>\n",
              "      <td>58</td>\n",
              "      <td>True</td>\n",
              "      <td>43</td>\n",
              "      <td>3576</td>\n",
              "      <td>0</td>\n",
              "      <td>6715</td>\n",
              "      <td>49</td>\n",
              "      <td>Altark Susent</td>\n",
              "      <td>False</td>\n",
              "    </tr>\n",
              "    <tr>\n",
              "      <th>3</th>\n",
              "      <td>0003_02</td>\n",
              "      <td>Europa</td>\n",
              "      <td>False</td>\n",
              "      <td>A/0/S</td>\n",
              "      <td>Andromeda</td>\n",
              "      <td>33</td>\n",
              "      <td>False</td>\n",
              "      <td>0</td>\n",
              "      <td>1283</td>\n",
              "      <td>371</td>\n",
              "      <td>3329</td>\n",
              "      <td>193</td>\n",
              "      <td>Solam Susent</td>\n",
              "      <td>False</td>\n",
              "    </tr>\n",
              "    <tr>\n",
              "      <th>4</th>\n",
              "      <td>0004_01</td>\n",
              "      <td>Earth</td>\n",
              "      <td>False</td>\n",
              "      <td>F/1/S</td>\n",
              "      <td>Andromeda</td>\n",
              "      <td>16</td>\n",
              "      <td>False</td>\n",
              "      <td>303</td>\n",
              "      <td>70</td>\n",
              "      <td>151</td>\n",
              "      <td>565</td>\n",
              "      <td>2</td>\n",
              "      <td>Willy Santantines</td>\n",
              "      <td>True</td>\n",
              "    </tr>\n",
              "  </tbody>\n",
              "</table>\n",
              "</div>\n",
              "      <button class=\"colab-df-convert\" onclick=\"convertToInteractive('df-a0edd64a-48ad-459d-a208-ccac163e6e88')\"\n",
              "              title=\"Convert this dataframe to an interactive table.\"\n",
              "              style=\"display:none;\">\n",
              "        \n",
              "  <svg xmlns=\"http://www.w3.org/2000/svg\" height=\"24px\"viewBox=\"0 0 24 24\"\n",
              "       width=\"24px\">\n",
              "    <path d=\"M0 0h24v24H0V0z\" fill=\"none\"/>\n",
              "    <path d=\"M18.56 5.44l.94 2.06.94-2.06 2.06-.94-2.06-.94-.94-2.06-.94 2.06-2.06.94zm-11 1L8.5 8.5l.94-2.06 2.06-.94-2.06-.94L8.5 2.5l-.94 2.06-2.06.94zm10 10l.94 2.06.94-2.06 2.06-.94-2.06-.94-.94-2.06-.94 2.06-2.06.94z\"/><path d=\"M17.41 7.96l-1.37-1.37c-.4-.4-.92-.59-1.43-.59-.52 0-1.04.2-1.43.59L10.3 9.45l-7.72 7.72c-.78.78-.78 2.05 0 2.83L4 21.41c.39.39.9.59 1.41.59.51 0 1.02-.2 1.41-.59l7.78-7.78 2.81-2.81c.8-.78.8-2.07 0-2.86zM5.41 20L4 18.59l7.72-7.72 1.47 1.35L5.41 20z\"/>\n",
              "  </svg>\n",
              "      </button>\n",
              "      \n",
              "  <style>\n",
              "    .colab-df-container {\n",
              "      display:flex;\n",
              "      flex-wrap:wrap;\n",
              "      gap: 12px;\n",
              "    }\n",
              "\n",
              "    .colab-df-convert {\n",
              "      background-color: #E8F0FE;\n",
              "      border: none;\n",
              "      border-radius: 50%;\n",
              "      cursor: pointer;\n",
              "      display: none;\n",
              "      fill: #1967D2;\n",
              "      height: 32px;\n",
              "      padding: 0 0 0 0;\n",
              "      width: 32px;\n",
              "    }\n",
              "\n",
              "    .colab-df-convert:hover {\n",
              "      background-color: #E2EBFA;\n",
              "      box-shadow: 0px 1px 2px rgba(60, 64, 67, 0.3), 0px 1px 3px 1px rgba(60, 64, 67, 0.15);\n",
              "      fill: #174EA6;\n",
              "    }\n",
              "\n",
              "    [theme=dark] .colab-df-convert {\n",
              "      background-color: #3B4455;\n",
              "      fill: #D2E3FC;\n",
              "    }\n",
              "\n",
              "    [theme=dark] .colab-df-convert:hover {\n",
              "      background-color: #434B5C;\n",
              "      box-shadow: 0px 1px 3px 1px rgba(0, 0, 0, 0.15);\n",
              "      filter: drop-shadow(0px 1px 2px rgba(0, 0, 0, 0.3));\n",
              "      fill: #FFFFFF;\n",
              "    }\n",
              "  </style>\n",
              "\n",
              "      <script>\n",
              "        const buttonEl =\n",
              "          document.querySelector('#df-a0edd64a-48ad-459d-a208-ccac163e6e88 button.colab-df-convert');\n",
              "        buttonEl.style.display =\n",
              "          google.colab.kernel.accessAllowed ? 'block' : 'none';\n",
              "\n",
              "        async function convertToInteractive(key) {\n",
              "          const element = document.querySelector('#df-a0edd64a-48ad-459d-a208-ccac163e6e88');\n",
              "          const dataTable =\n",
              "            await google.colab.kernel.invokeFunction('convertToInteractive',\n",
              "                                                     [key], {});\n",
              "          if (!dataTable) return;\n",
              "\n",
              "          const docLinkHtml = 'Like what you see? Visit the ' +\n",
              "            '<a target=\"_blank\" href=https://colab.research.google.com/notebooks/data_table.ipynb>data table notebook</a>'\n",
              "            + ' to learn more about interactive tables.';\n",
              "          element.innerHTML = '';\n",
              "          dataTable['output_type'] = 'display_data';\n",
              "          await google.colab.output.renderOutput(dataTable, element);\n",
              "          const docLink = document.createElement('div');\n",
              "          docLink.innerHTML = docLinkHtml;\n",
              "          element.appendChild(docLink);\n",
              "        }\n",
              "      </script>\n",
              "    </div>\n",
              "  </div>\n",
              "  "
            ]
          },
          "metadata": {},
          "execution_count": 3
        }
      ]
    },
    {
      "cell_type": "markdown",
      "source": [
        "#### Check the shape of data. It should be  (8693, 14)"
      ],
      "metadata": {
        "id": "TctF3H_SUePG"
      }
    },
    {
      "cell_type": "code",
      "source": [
        "## ======== YOUR CODE HERE ======== ##\n",
        "\n",
        "df.shape\n",
        "\n",
        "## ================================ ##"
      ],
      "metadata": {
        "id": "T5wuaGN7LY7M",
        "outputId": "e5e191b1-ae02-44d4-904d-6e8190372feb",
        "colab": {
          "base_uri": "https://localhost:8080/"
        }
      },
      "execution_count": null,
      "outputs": [
        {
          "output_type": "execute_result",
          "data": {
            "text/plain": [
              "(8693, 14)"
            ]
          },
          "metadata": {},
          "execution_count": 4
        }
      ]
    },
    {
      "cell_type": "markdown",
      "source": [
        "#### Apply describe on dataframe"
      ],
      "metadata": {
        "id": "qtkIiZmwUpDM"
      }
    },
    {
      "cell_type": "code",
      "source": [
        "## ======== YOUR CODE HERE ======== ##\n",
        "\n",
        "df.describe\n",
        "## ================================ ##"
      ],
      "metadata": {
        "id": "oa9X6NTxQlzk",
        "outputId": "9089a405-1f4d-4d00-8d2a-06cb8c6682cc",
        "colab": {
          "base_uri": "https://localhost:8080/"
        }
      },
      "execution_count": null,
      "outputs": [
        {
          "output_type": "execute_result",
          "data": {
            "text/plain": [
              "<bound method NDFrame.describe of      PassengerId HomePlanet  CryoSleep     Cabin Destination  Age    VIP  \\\n",
              "0        0001_01     Europa      False     B/0/P   Andromeda   39  False   \n",
              "1        0002_01      Earth      False     F/0/S   Andromeda   24  False   \n",
              "2        0003_01     Europa      False     A/0/S   Andromeda   58   True   \n",
              "3        0003_02     Europa      False     A/0/S   Andromeda   33  False   \n",
              "4        0004_01      Earth      False     F/1/S   Andromeda   16  False   \n",
              "...          ...        ...        ...       ...         ...  ...    ...   \n",
              "8688     9276_01     Europa      False    A/98/P       Virgo   41   True   \n",
              "8689     9278_01      Earth       True  G/1499/S      Cygnus   18  False   \n",
              "8690     9279_01      Earth      False  G/1500/S   Andromeda   26  False   \n",
              "8691     9280_01     Europa      False   E/608/S       Virgo   32  False   \n",
              "8692     9280_02     Europa      False   E/608/S   Andromeda   44  False   \n",
              "\n",
              "      RoomService  FoodCourt  ShoppingMall   Spa  VRDeck               Name  \\\n",
              "0               0          0             0     0       0    Maham Ofracculy   \n",
              "1             109          9            25   549      44       Juanna Vines   \n",
              "2              43       3576             0  6715      49      Altark Susent   \n",
              "3               0       1283           371  3329     193       Solam Susent   \n",
              "4             303         70           151   565       2  Willy Santantines   \n",
              "...           ...        ...           ...   ...     ...                ...   \n",
              "8688            0       6819             0  1643      74  Gravior Noxnuther   \n",
              "8689            0          0             0     0       0    Kurta Mondalley   \n",
              "8690            0          0          1872     1       0       Fayey Connon   \n",
              "8691            0       1049             0   353    3235   Celeon Hontichre   \n",
              "8692          126       4688             0     0      12   Propsh Hontichre   \n",
              "\n",
              "      Transported  \n",
              "0           False  \n",
              "1            True  \n",
              "2           False  \n",
              "3           False  \n",
              "4            True  \n",
              "...           ...  \n",
              "8688        False  \n",
              "8689        False  \n",
              "8690         True  \n",
              "8691        False  \n",
              "8692         True  \n",
              "\n",
              "[8693 rows x 14 columns]>"
            ]
          },
          "metadata": {},
          "execution_count": 5
        }
      ]
    },
    {
      "cell_type": "markdown",
      "source": [
        "#### Check if there any null value in the dataset."
      ],
      "metadata": {
        "id": "jtuqbR3LUsws"
      }
    },
    {
      "cell_type": "code",
      "source": [
        "## ======== YOUR CODE HERE ======== ##\n",
        "df1=df.isnull().sum()\n",
        "df1\n",
        "\n",
        "\n",
        "## ================================ ##"
      ],
      "metadata": {
        "id": "NH6Ky_nqQxtE",
        "outputId": "8640fd01-0426-4dc0-bafb-b41743811756",
        "colab": {
          "base_uri": "https://localhost:8080/"
        }
      },
      "execution_count": null,
      "outputs": [
        {
          "output_type": "execute_result",
          "data": {
            "text/plain": [
              "PassengerId     0\n",
              "HomePlanet      0\n",
              "CryoSleep       0\n",
              "Cabin           0\n",
              "Destination     0\n",
              "Age             0\n",
              "VIP             0\n",
              "RoomService     0\n",
              "FoodCourt       0\n",
              "ShoppingMall    0\n",
              "Spa             0\n",
              "VRDeck          0\n",
              "Name            0\n",
              "Transported     0\n",
              "dtype: int64"
            ]
          },
          "metadata": {},
          "execution_count": 6
        }
      ]
    },
    {
      "cell_type": "code",
      "source": [
        "df1=df\n",
        "df"
      ],
      "metadata": {
        "id": "gWA5b4PtiUpC",
        "outputId": "3aa9b824-525c-4b5c-e405-9332e60be3a7",
        "colab": {
          "base_uri": "https://localhost:8080/",
          "height": 423
        }
      },
      "execution_count": null,
      "outputs": [
        {
          "output_type": "execute_result",
          "data": {
            "text/plain": [
              "     PassengerId HomePlanet  CryoSleep     Cabin Destination  Age    VIP  \\\n",
              "0        0001_01     Europa      False     B/0/P   Andromeda   39  False   \n",
              "1        0002_01      Earth      False     F/0/S   Andromeda   24  False   \n",
              "2        0003_01     Europa      False     A/0/S   Andromeda   58   True   \n",
              "3        0003_02     Europa      False     A/0/S   Andromeda   33  False   \n",
              "4        0004_01      Earth      False     F/1/S   Andromeda   16  False   \n",
              "...          ...        ...        ...       ...         ...  ...    ...   \n",
              "8688     9276_01     Europa      False    A/98/P       Virgo   41   True   \n",
              "8689     9278_01      Earth       True  G/1499/S      Cygnus   18  False   \n",
              "8690     9279_01      Earth      False  G/1500/S   Andromeda   26  False   \n",
              "8691     9280_01     Europa      False   E/608/S       Virgo   32  False   \n",
              "8692     9280_02     Europa      False   E/608/S   Andromeda   44  False   \n",
              "\n",
              "      RoomService  FoodCourt  ShoppingMall   Spa  VRDeck               Name  \\\n",
              "0               0          0             0     0       0    Maham Ofracculy   \n",
              "1             109          9            25   549      44       Juanna Vines   \n",
              "2              43       3576             0  6715      49      Altark Susent   \n",
              "3               0       1283           371  3329     193       Solam Susent   \n",
              "4             303         70           151   565       2  Willy Santantines   \n",
              "...           ...        ...           ...   ...     ...                ...   \n",
              "8688            0       6819             0  1643      74  Gravior Noxnuther   \n",
              "8689            0          0             0     0       0    Kurta Mondalley   \n",
              "8690            0          0          1872     1       0       Fayey Connon   \n",
              "8691            0       1049             0   353    3235   Celeon Hontichre   \n",
              "8692          126       4688             0     0      12   Propsh Hontichre   \n",
              "\n",
              "      Transported  \n",
              "0           False  \n",
              "1            True  \n",
              "2           False  \n",
              "3           False  \n",
              "4            True  \n",
              "...           ...  \n",
              "8688        False  \n",
              "8689        False  \n",
              "8690         True  \n",
              "8691        False  \n",
              "8692         True  \n",
              "\n",
              "[8693 rows x 14 columns]"
            ],
            "text/html": [
              "\n",
              "  <div id=\"df-28983d88-1f81-4d1b-a35e-c595dda00ccd\">\n",
              "    <div class=\"colab-df-container\">\n",
              "      <div>\n",
              "<style scoped>\n",
              "    .dataframe tbody tr th:only-of-type {\n",
              "        vertical-align: middle;\n",
              "    }\n",
              "\n",
              "    .dataframe tbody tr th {\n",
              "        vertical-align: top;\n",
              "    }\n",
              "\n",
              "    .dataframe thead th {\n",
              "        text-align: right;\n",
              "    }\n",
              "</style>\n",
              "<table border=\"1\" class=\"dataframe\">\n",
              "  <thead>\n",
              "    <tr style=\"text-align: right;\">\n",
              "      <th></th>\n",
              "      <th>PassengerId</th>\n",
              "      <th>HomePlanet</th>\n",
              "      <th>CryoSleep</th>\n",
              "      <th>Cabin</th>\n",
              "      <th>Destination</th>\n",
              "      <th>Age</th>\n",
              "      <th>VIP</th>\n",
              "      <th>RoomService</th>\n",
              "      <th>FoodCourt</th>\n",
              "      <th>ShoppingMall</th>\n",
              "      <th>Spa</th>\n",
              "      <th>VRDeck</th>\n",
              "      <th>Name</th>\n",
              "      <th>Transported</th>\n",
              "    </tr>\n",
              "  </thead>\n",
              "  <tbody>\n",
              "    <tr>\n",
              "      <th>0</th>\n",
              "      <td>0001_01</td>\n",
              "      <td>Europa</td>\n",
              "      <td>False</td>\n",
              "      <td>B/0/P</td>\n",
              "      <td>Andromeda</td>\n",
              "      <td>39</td>\n",
              "      <td>False</td>\n",
              "      <td>0</td>\n",
              "      <td>0</td>\n",
              "      <td>0</td>\n",
              "      <td>0</td>\n",
              "      <td>0</td>\n",
              "      <td>Maham Ofracculy</td>\n",
              "      <td>False</td>\n",
              "    </tr>\n",
              "    <tr>\n",
              "      <th>1</th>\n",
              "      <td>0002_01</td>\n",
              "      <td>Earth</td>\n",
              "      <td>False</td>\n",
              "      <td>F/0/S</td>\n",
              "      <td>Andromeda</td>\n",
              "      <td>24</td>\n",
              "      <td>False</td>\n",
              "      <td>109</td>\n",
              "      <td>9</td>\n",
              "      <td>25</td>\n",
              "      <td>549</td>\n",
              "      <td>44</td>\n",
              "      <td>Juanna Vines</td>\n",
              "      <td>True</td>\n",
              "    </tr>\n",
              "    <tr>\n",
              "      <th>2</th>\n",
              "      <td>0003_01</td>\n",
              "      <td>Europa</td>\n",
              "      <td>False</td>\n",
              "      <td>A/0/S</td>\n",
              "      <td>Andromeda</td>\n",
              "      <td>58</td>\n",
              "      <td>True</td>\n",
              "      <td>43</td>\n",
              "      <td>3576</td>\n",
              "      <td>0</td>\n",
              "      <td>6715</td>\n",
              "      <td>49</td>\n",
              "      <td>Altark Susent</td>\n",
              "      <td>False</td>\n",
              "    </tr>\n",
              "    <tr>\n",
              "      <th>3</th>\n",
              "      <td>0003_02</td>\n",
              "      <td>Europa</td>\n",
              "      <td>False</td>\n",
              "      <td>A/0/S</td>\n",
              "      <td>Andromeda</td>\n",
              "      <td>33</td>\n",
              "      <td>False</td>\n",
              "      <td>0</td>\n",
              "      <td>1283</td>\n",
              "      <td>371</td>\n",
              "      <td>3329</td>\n",
              "      <td>193</td>\n",
              "      <td>Solam Susent</td>\n",
              "      <td>False</td>\n",
              "    </tr>\n",
              "    <tr>\n",
              "      <th>4</th>\n",
              "      <td>0004_01</td>\n",
              "      <td>Earth</td>\n",
              "      <td>False</td>\n",
              "      <td>F/1/S</td>\n",
              "      <td>Andromeda</td>\n",
              "      <td>16</td>\n",
              "      <td>False</td>\n",
              "      <td>303</td>\n",
              "      <td>70</td>\n",
              "      <td>151</td>\n",
              "      <td>565</td>\n",
              "      <td>2</td>\n",
              "      <td>Willy Santantines</td>\n",
              "      <td>True</td>\n",
              "    </tr>\n",
              "    <tr>\n",
              "      <th>...</th>\n",
              "      <td>...</td>\n",
              "      <td>...</td>\n",
              "      <td>...</td>\n",
              "      <td>...</td>\n",
              "      <td>...</td>\n",
              "      <td>...</td>\n",
              "      <td>...</td>\n",
              "      <td>...</td>\n",
              "      <td>...</td>\n",
              "      <td>...</td>\n",
              "      <td>...</td>\n",
              "      <td>...</td>\n",
              "      <td>...</td>\n",
              "      <td>...</td>\n",
              "    </tr>\n",
              "    <tr>\n",
              "      <th>8688</th>\n",
              "      <td>9276_01</td>\n",
              "      <td>Europa</td>\n",
              "      <td>False</td>\n",
              "      <td>A/98/P</td>\n",
              "      <td>Virgo</td>\n",
              "      <td>41</td>\n",
              "      <td>True</td>\n",
              "      <td>0</td>\n",
              "      <td>6819</td>\n",
              "      <td>0</td>\n",
              "      <td>1643</td>\n",
              "      <td>74</td>\n",
              "      <td>Gravior Noxnuther</td>\n",
              "      <td>False</td>\n",
              "    </tr>\n",
              "    <tr>\n",
              "      <th>8689</th>\n",
              "      <td>9278_01</td>\n",
              "      <td>Earth</td>\n",
              "      <td>True</td>\n",
              "      <td>G/1499/S</td>\n",
              "      <td>Cygnus</td>\n",
              "      <td>18</td>\n",
              "      <td>False</td>\n",
              "      <td>0</td>\n",
              "      <td>0</td>\n",
              "      <td>0</td>\n",
              "      <td>0</td>\n",
              "      <td>0</td>\n",
              "      <td>Kurta Mondalley</td>\n",
              "      <td>False</td>\n",
              "    </tr>\n",
              "    <tr>\n",
              "      <th>8690</th>\n",
              "      <td>9279_01</td>\n",
              "      <td>Earth</td>\n",
              "      <td>False</td>\n",
              "      <td>G/1500/S</td>\n",
              "      <td>Andromeda</td>\n",
              "      <td>26</td>\n",
              "      <td>False</td>\n",
              "      <td>0</td>\n",
              "      <td>0</td>\n",
              "      <td>1872</td>\n",
              "      <td>1</td>\n",
              "      <td>0</td>\n",
              "      <td>Fayey Connon</td>\n",
              "      <td>True</td>\n",
              "    </tr>\n",
              "    <tr>\n",
              "      <th>8691</th>\n",
              "      <td>9280_01</td>\n",
              "      <td>Europa</td>\n",
              "      <td>False</td>\n",
              "      <td>E/608/S</td>\n",
              "      <td>Virgo</td>\n",
              "      <td>32</td>\n",
              "      <td>False</td>\n",
              "      <td>0</td>\n",
              "      <td>1049</td>\n",
              "      <td>0</td>\n",
              "      <td>353</td>\n",
              "      <td>3235</td>\n",
              "      <td>Celeon Hontichre</td>\n",
              "      <td>False</td>\n",
              "    </tr>\n",
              "    <tr>\n",
              "      <th>8692</th>\n",
              "      <td>9280_02</td>\n",
              "      <td>Europa</td>\n",
              "      <td>False</td>\n",
              "      <td>E/608/S</td>\n",
              "      <td>Andromeda</td>\n",
              "      <td>44</td>\n",
              "      <td>False</td>\n",
              "      <td>126</td>\n",
              "      <td>4688</td>\n",
              "      <td>0</td>\n",
              "      <td>0</td>\n",
              "      <td>12</td>\n",
              "      <td>Propsh Hontichre</td>\n",
              "      <td>True</td>\n",
              "    </tr>\n",
              "  </tbody>\n",
              "</table>\n",
              "<p>8693 rows × 14 columns</p>\n",
              "</div>\n",
              "      <button class=\"colab-df-convert\" onclick=\"convertToInteractive('df-28983d88-1f81-4d1b-a35e-c595dda00ccd')\"\n",
              "              title=\"Convert this dataframe to an interactive table.\"\n",
              "              style=\"display:none;\">\n",
              "        \n",
              "  <svg xmlns=\"http://www.w3.org/2000/svg\" height=\"24px\"viewBox=\"0 0 24 24\"\n",
              "       width=\"24px\">\n",
              "    <path d=\"M0 0h24v24H0V0z\" fill=\"none\"/>\n",
              "    <path d=\"M18.56 5.44l.94 2.06.94-2.06 2.06-.94-2.06-.94-.94-2.06-.94 2.06-2.06.94zm-11 1L8.5 8.5l.94-2.06 2.06-.94-2.06-.94L8.5 2.5l-.94 2.06-2.06.94zm10 10l.94 2.06.94-2.06 2.06-.94-2.06-.94-.94-2.06-.94 2.06-2.06.94z\"/><path d=\"M17.41 7.96l-1.37-1.37c-.4-.4-.92-.59-1.43-.59-.52 0-1.04.2-1.43.59L10.3 9.45l-7.72 7.72c-.78.78-.78 2.05 0 2.83L4 21.41c.39.39.9.59 1.41.59.51 0 1.02-.2 1.41-.59l7.78-7.78 2.81-2.81c.8-.78.8-2.07 0-2.86zM5.41 20L4 18.59l7.72-7.72 1.47 1.35L5.41 20z\"/>\n",
              "  </svg>\n",
              "      </button>\n",
              "      \n",
              "  <style>\n",
              "    .colab-df-container {\n",
              "      display:flex;\n",
              "      flex-wrap:wrap;\n",
              "      gap: 12px;\n",
              "    }\n",
              "\n",
              "    .colab-df-convert {\n",
              "      background-color: #E8F0FE;\n",
              "      border: none;\n",
              "      border-radius: 50%;\n",
              "      cursor: pointer;\n",
              "      display: none;\n",
              "      fill: #1967D2;\n",
              "      height: 32px;\n",
              "      padding: 0 0 0 0;\n",
              "      width: 32px;\n",
              "    }\n",
              "\n",
              "    .colab-df-convert:hover {\n",
              "      background-color: #E2EBFA;\n",
              "      box-shadow: 0px 1px 2px rgba(60, 64, 67, 0.3), 0px 1px 3px 1px rgba(60, 64, 67, 0.15);\n",
              "      fill: #174EA6;\n",
              "    }\n",
              "\n",
              "    [theme=dark] .colab-df-convert {\n",
              "      background-color: #3B4455;\n",
              "      fill: #D2E3FC;\n",
              "    }\n",
              "\n",
              "    [theme=dark] .colab-df-convert:hover {\n",
              "      background-color: #434B5C;\n",
              "      box-shadow: 0px 1px 3px 1px rgba(0, 0, 0, 0.15);\n",
              "      filter: drop-shadow(0px 1px 2px rgba(0, 0, 0, 0.3));\n",
              "      fill: #FFFFFF;\n",
              "    }\n",
              "  </style>\n",
              "\n",
              "      <script>\n",
              "        const buttonEl =\n",
              "          document.querySelector('#df-28983d88-1f81-4d1b-a35e-c595dda00ccd button.colab-df-convert');\n",
              "        buttonEl.style.display =\n",
              "          google.colab.kernel.accessAllowed ? 'block' : 'none';\n",
              "\n",
              "        async function convertToInteractive(key) {\n",
              "          const element = document.querySelector('#df-28983d88-1f81-4d1b-a35e-c595dda00ccd');\n",
              "          const dataTable =\n",
              "            await google.colab.kernel.invokeFunction('convertToInteractive',\n",
              "                                                     [key], {});\n",
              "          if (!dataTable) return;\n",
              "\n",
              "          const docLinkHtml = 'Like what you see? Visit the ' +\n",
              "            '<a target=\"_blank\" href=https://colab.research.google.com/notebooks/data_table.ipynb>data table notebook</a>'\n",
              "            + ' to learn more about interactive tables.';\n",
              "          element.innerHTML = '';\n",
              "          dataTable['output_type'] = 'display_data';\n",
              "          await google.colab.output.renderOutput(dataTable, element);\n",
              "          const docLink = document.createElement('div');\n",
              "          docLink.innerHTML = docLinkHtml;\n",
              "          element.appendChild(docLink);\n",
              "        }\n",
              "      </script>\n",
              "    </div>\n",
              "  </div>\n",
              "  "
            ]
          },
          "metadata": {},
          "execution_count": 7
        }
      ]
    },
    {
      "cell_type": "markdown",
      "source": [
        "#### Number continuous and categorical features"
      ],
      "metadata": {
        "id": "XA8O-zuLU00Q"
      }
    },
    {
      "cell_type": "code",
      "source": [
        "#################################################################\n",
        "\n",
        "# Don't make mistake here. Ask in the discussion section if you are stuck. Help will be provided....\n",
        "\n",
        "#################################################################\n",
        "\n",
        "## ======== YOUR CODE HERE ======== ##\n",
        "\n",
        "continous_features = [  'Age',\n",
        "        'RoomService', 'FoodCourt', 'ShoppingMall', 'Spa', 'VRDeck',\n",
        "       ]\n",
        "    # Fill the continuous fearures inside the array\n",
        "categorical_features = [ 'PassengerId','HomePlanet', 'CryoSleep', 'Cabin', 'Destination',\n",
        "       'VIP',\n",
        "       'Name', 'Transported'] # Fill the categorical features inside the array\n",
        "\n",
        "## ======== YOUR CODE HERE ======== ##\n",
        "\n",
        "print(\"Continous Features: \", continous_features)\n",
        "print(\"No. of Continuous features: \", len(continous_features))\n",
        "\n",
        "print(\"Categorical Features: \", categorical_features)\n",
        "print(\"No. of Categorical Features: \", len(categorical_features))"
      ],
      "metadata": {
        "id": "bnEHaL-cUUQ4",
        "outputId": "bca74a9f-6cb2-4ca4-930f-f6865332e62a",
        "colab": {
          "base_uri": "https://localhost:8080/"
        }
      },
      "execution_count": null,
      "outputs": [
        {
          "output_type": "stream",
          "name": "stdout",
          "text": [
            "Continous Features:  ['Age', 'RoomService', 'FoodCourt', 'ShoppingMall', 'Spa', 'VRDeck']\n",
            "No. of Continuous features:  6\n",
            "Categorical Features:  ['PassengerId', 'HomePlanet', 'CryoSleep', 'Cabin', 'Destination', 'VIP', 'Name', 'Transported']\n",
            "No. of Categorical Features:  8\n"
          ]
        }
      ]
    },
    {
      "cell_type": "markdown",
      "source": [
        "#### Unique values"
      ],
      "metadata": {
        "id": "nvbf6praYa0l"
      }
    },
    {
      "cell_type": "code",
      "source": [
        "# Print the number of unique values of the categorical features\n",
        "\n",
        "## ======== YOUR CODE HERE ======== ##\n",
        "a=df['VIP'].unique()\n",
        "b=df['HomePlanet'].unique()\n",
        "c=df['CryoSleep'].unique()\n",
        "d=df['Transported'].unique()\n",
        "e=df['Destination'].unique()\n",
        "print(a,len(a))\n",
        "print(b,len(b))\n",
        "print(c,len(c))\n",
        "print(d,len(d))\n",
        "print(e,len(e))\n",
        "\n",
        "\n",
        "\n",
        "\n",
        "## ======== YOUR CODE HERE ======== ##"
      ],
      "metadata": {
        "id": "YHRaNXWuZecT",
        "colab": {
          "base_uri": "https://localhost:8080/"
        },
        "outputId": "b8332919-43bd-4b44-da45-3a9826811f13"
      },
      "execution_count": null,
      "outputs": [
        {
          "output_type": "stream",
          "name": "stdout",
          "text": [
            "[False  True] 2\n",
            "['Europa' 'Earth' 'Mars'] 3\n",
            "[False  True] 2\n",
            "[False  True] 2\n",
            "['Andromeda' 'Cygnus' 'Virgo'] 3\n"
          ]
        }
      ]
    },
    {
      "cell_type": "markdown",
      "source": [
        "<code>Note: If we apply one-hot-encoding to a categorical feature with many unique values, </code>\n",
        "- Number of columns will be high\n",
        "- Time required for training a model will be high\n",
        "- We may not get usefull insights about the data\n",
        "\n",
        "<code>This is the reason we are droping the features with more unique values.</code>\n"
      ],
      "metadata": {
        "id": "0oojkTXNbSsU"
      }
    },
    {
      "cell_type": "markdown",
      "source": [
        "#### Drop the features"
      ],
      "metadata": {
        "id": "cDThwpZKdjKT"
      }
    },
    {
      "cell_type": "code",
      "source": [
        "# Drop those categorical features which have more than 25 unique values\n",
        "\n",
        "## ======== YOUR CODE HERE ======== ##\n",
        "\n",
        "\n",
        "df=pd.read_csv('/content/dataw3.csv')\n",
        "df=df.drop('Name',axis=1)\n",
        "df=df.drop('Cabin',axis=1)\n",
        "df=df.drop('PassengerId',axis=1)\n",
        "df.shape\n",
        "## ======== YOUR CODE HERE ======== ##\n",
        "\n",
        "# Print the shape after droping the features\n",
        "# Check: Shape --> (8693, 11)\n",
        "\n",
        "## ======== YOUR CODE HERE ======== ##\n",
        "\n",
        "\n",
        "\n",
        "## ======== YOUR CODE HERE ======== ##"
      ],
      "metadata": {
        "id": "s1wMTAeJdqQb",
        "outputId": "e446c5c2-e6f8-4fb1-96e0-5ff5b0e656e8",
        "colab": {
          "base_uri": "https://localhost:8080/"
        }
      },
      "execution_count": null,
      "outputs": [
        {
          "output_type": "execute_result",
          "data": {
            "text/plain": [
              "(8693, 11)"
            ]
          },
          "metadata": {},
          "execution_count": 31
        }
      ]
    },
    {
      "cell_type": "markdown",
      "source": [
        "#### One Hot Encoding"
      ],
      "metadata": {
        "id": "k6giFKFeevim"
      }
    },
    {
      "cell_type": "code",
      "source": [
        "# Hint: search for get_dummies\n",
        "\n",
        "## ======== YOUR CODE HERE ======== ##\n",
        "\n",
        "df2=pd.get_dummies(df.Destination)\n",
        "df4=pd.get_dummies(df.HomePlanet)\n",
        "df3=pd.concat([df2,df,df4],axis='columns')\n",
        "df3=df3.drop('HomePlanet',axis=1)\n",
        "df3=df3.drop('Destination',axis=1)\n",
        "df3\n",
        "## ======== YOUR CODE HERE ======== ##\n",
        "\n",
        "# Check: Shape --> (8693, 15)"
      ],
      "metadata": {
        "id": "3BVX8hQhW8JT",
        "outputId": "465f0b78-a388-4155-cac2-0011dd599744",
        "colab": {
          "base_uri": "https://localhost:8080/",
          "height": 423
        }
      },
      "execution_count": null,
      "outputs": [
        {
          "output_type": "execute_result",
          "data": {
            "text/plain": [
              "      Andromeda  Cygnus  Virgo  CryoSleep  Age    VIP  RoomService  FoodCourt  \\\n",
              "0             1       0      0      False   39  False            0          0   \n",
              "1             1       0      0      False   24  False          109          9   \n",
              "2             1       0      0      False   58   True           43       3576   \n",
              "3             1       0      0      False   33  False            0       1283   \n",
              "4             1       0      0      False   16  False          303         70   \n",
              "...         ...     ...    ...        ...  ...    ...          ...        ...   \n",
              "8688          0       0      1      False   41   True            0       6819   \n",
              "8689          0       1      0       True   18  False            0          0   \n",
              "8690          1       0      0      False   26  False            0          0   \n",
              "8691          0       0      1      False   32  False            0       1049   \n",
              "8692          1       0      0      False   44  False          126       4688   \n",
              "\n",
              "      ShoppingMall   Spa  VRDeck  Transported  Earth  Europa  Mars  \n",
              "0                0     0       0        False      0       1     0  \n",
              "1               25   549      44         True      1       0     0  \n",
              "2                0  6715      49        False      0       1     0  \n",
              "3              371  3329     193        False      0       1     0  \n",
              "4              151   565       2         True      1       0     0  \n",
              "...            ...   ...     ...          ...    ...     ...   ...  \n",
              "8688             0  1643      74        False      0       1     0  \n",
              "8689             0     0       0        False      1       0     0  \n",
              "8690          1872     1       0         True      1       0     0  \n",
              "8691             0   353    3235        False      0       1     0  \n",
              "8692             0     0      12         True      0       1     0  \n",
              "\n",
              "[8693 rows x 15 columns]"
            ],
            "text/html": [
              "\n",
              "  <div id=\"df-13f6aa2f-e1ab-40f5-a23c-31f2985ddebf\">\n",
              "    <div class=\"colab-df-container\">\n",
              "      <div>\n",
              "<style scoped>\n",
              "    .dataframe tbody tr th:only-of-type {\n",
              "        vertical-align: middle;\n",
              "    }\n",
              "\n",
              "    .dataframe tbody tr th {\n",
              "        vertical-align: top;\n",
              "    }\n",
              "\n",
              "    .dataframe thead th {\n",
              "        text-align: right;\n",
              "    }\n",
              "</style>\n",
              "<table border=\"1\" class=\"dataframe\">\n",
              "  <thead>\n",
              "    <tr style=\"text-align: right;\">\n",
              "      <th></th>\n",
              "      <th>Andromeda</th>\n",
              "      <th>Cygnus</th>\n",
              "      <th>Virgo</th>\n",
              "      <th>CryoSleep</th>\n",
              "      <th>Age</th>\n",
              "      <th>VIP</th>\n",
              "      <th>RoomService</th>\n",
              "      <th>FoodCourt</th>\n",
              "      <th>ShoppingMall</th>\n",
              "      <th>Spa</th>\n",
              "      <th>VRDeck</th>\n",
              "      <th>Transported</th>\n",
              "      <th>Earth</th>\n",
              "      <th>Europa</th>\n",
              "      <th>Mars</th>\n",
              "    </tr>\n",
              "  </thead>\n",
              "  <tbody>\n",
              "    <tr>\n",
              "      <th>0</th>\n",
              "      <td>1</td>\n",
              "      <td>0</td>\n",
              "      <td>0</td>\n",
              "      <td>False</td>\n",
              "      <td>39</td>\n",
              "      <td>False</td>\n",
              "      <td>0</td>\n",
              "      <td>0</td>\n",
              "      <td>0</td>\n",
              "      <td>0</td>\n",
              "      <td>0</td>\n",
              "      <td>False</td>\n",
              "      <td>0</td>\n",
              "      <td>1</td>\n",
              "      <td>0</td>\n",
              "    </tr>\n",
              "    <tr>\n",
              "      <th>1</th>\n",
              "      <td>1</td>\n",
              "      <td>0</td>\n",
              "      <td>0</td>\n",
              "      <td>False</td>\n",
              "      <td>24</td>\n",
              "      <td>False</td>\n",
              "      <td>109</td>\n",
              "      <td>9</td>\n",
              "      <td>25</td>\n",
              "      <td>549</td>\n",
              "      <td>44</td>\n",
              "      <td>True</td>\n",
              "      <td>1</td>\n",
              "      <td>0</td>\n",
              "      <td>0</td>\n",
              "    </tr>\n",
              "    <tr>\n",
              "      <th>2</th>\n",
              "      <td>1</td>\n",
              "      <td>0</td>\n",
              "      <td>0</td>\n",
              "      <td>False</td>\n",
              "      <td>58</td>\n",
              "      <td>True</td>\n",
              "      <td>43</td>\n",
              "      <td>3576</td>\n",
              "      <td>0</td>\n",
              "      <td>6715</td>\n",
              "      <td>49</td>\n",
              "      <td>False</td>\n",
              "      <td>0</td>\n",
              "      <td>1</td>\n",
              "      <td>0</td>\n",
              "    </tr>\n",
              "    <tr>\n",
              "      <th>3</th>\n",
              "      <td>1</td>\n",
              "      <td>0</td>\n",
              "      <td>0</td>\n",
              "      <td>False</td>\n",
              "      <td>33</td>\n",
              "      <td>False</td>\n",
              "      <td>0</td>\n",
              "      <td>1283</td>\n",
              "      <td>371</td>\n",
              "      <td>3329</td>\n",
              "      <td>193</td>\n",
              "      <td>False</td>\n",
              "      <td>0</td>\n",
              "      <td>1</td>\n",
              "      <td>0</td>\n",
              "    </tr>\n",
              "    <tr>\n",
              "      <th>4</th>\n",
              "      <td>1</td>\n",
              "      <td>0</td>\n",
              "      <td>0</td>\n",
              "      <td>False</td>\n",
              "      <td>16</td>\n",
              "      <td>False</td>\n",
              "      <td>303</td>\n",
              "      <td>70</td>\n",
              "      <td>151</td>\n",
              "      <td>565</td>\n",
              "      <td>2</td>\n",
              "      <td>True</td>\n",
              "      <td>1</td>\n",
              "      <td>0</td>\n",
              "      <td>0</td>\n",
              "    </tr>\n",
              "    <tr>\n",
              "      <th>...</th>\n",
              "      <td>...</td>\n",
              "      <td>...</td>\n",
              "      <td>...</td>\n",
              "      <td>...</td>\n",
              "      <td>...</td>\n",
              "      <td>...</td>\n",
              "      <td>...</td>\n",
              "      <td>...</td>\n",
              "      <td>...</td>\n",
              "      <td>...</td>\n",
              "      <td>...</td>\n",
              "      <td>...</td>\n",
              "      <td>...</td>\n",
              "      <td>...</td>\n",
              "      <td>...</td>\n",
              "    </tr>\n",
              "    <tr>\n",
              "      <th>8688</th>\n",
              "      <td>0</td>\n",
              "      <td>0</td>\n",
              "      <td>1</td>\n",
              "      <td>False</td>\n",
              "      <td>41</td>\n",
              "      <td>True</td>\n",
              "      <td>0</td>\n",
              "      <td>6819</td>\n",
              "      <td>0</td>\n",
              "      <td>1643</td>\n",
              "      <td>74</td>\n",
              "      <td>False</td>\n",
              "      <td>0</td>\n",
              "      <td>1</td>\n",
              "      <td>0</td>\n",
              "    </tr>\n",
              "    <tr>\n",
              "      <th>8689</th>\n",
              "      <td>0</td>\n",
              "      <td>1</td>\n",
              "      <td>0</td>\n",
              "      <td>True</td>\n",
              "      <td>18</td>\n",
              "      <td>False</td>\n",
              "      <td>0</td>\n",
              "      <td>0</td>\n",
              "      <td>0</td>\n",
              "      <td>0</td>\n",
              "      <td>0</td>\n",
              "      <td>False</td>\n",
              "      <td>1</td>\n",
              "      <td>0</td>\n",
              "      <td>0</td>\n",
              "    </tr>\n",
              "    <tr>\n",
              "      <th>8690</th>\n",
              "      <td>1</td>\n",
              "      <td>0</td>\n",
              "      <td>0</td>\n",
              "      <td>False</td>\n",
              "      <td>26</td>\n",
              "      <td>False</td>\n",
              "      <td>0</td>\n",
              "      <td>0</td>\n",
              "      <td>1872</td>\n",
              "      <td>1</td>\n",
              "      <td>0</td>\n",
              "      <td>True</td>\n",
              "      <td>1</td>\n",
              "      <td>0</td>\n",
              "      <td>0</td>\n",
              "    </tr>\n",
              "    <tr>\n",
              "      <th>8691</th>\n",
              "      <td>0</td>\n",
              "      <td>0</td>\n",
              "      <td>1</td>\n",
              "      <td>False</td>\n",
              "      <td>32</td>\n",
              "      <td>False</td>\n",
              "      <td>0</td>\n",
              "      <td>1049</td>\n",
              "      <td>0</td>\n",
              "      <td>353</td>\n",
              "      <td>3235</td>\n",
              "      <td>False</td>\n",
              "      <td>0</td>\n",
              "      <td>1</td>\n",
              "      <td>0</td>\n",
              "    </tr>\n",
              "    <tr>\n",
              "      <th>8692</th>\n",
              "      <td>1</td>\n",
              "      <td>0</td>\n",
              "      <td>0</td>\n",
              "      <td>False</td>\n",
              "      <td>44</td>\n",
              "      <td>False</td>\n",
              "      <td>126</td>\n",
              "      <td>4688</td>\n",
              "      <td>0</td>\n",
              "      <td>0</td>\n",
              "      <td>12</td>\n",
              "      <td>True</td>\n",
              "      <td>0</td>\n",
              "      <td>1</td>\n",
              "      <td>0</td>\n",
              "    </tr>\n",
              "  </tbody>\n",
              "</table>\n",
              "<p>8693 rows × 15 columns</p>\n",
              "</div>\n",
              "      <button class=\"colab-df-convert\" onclick=\"convertToInteractive('df-13f6aa2f-e1ab-40f5-a23c-31f2985ddebf')\"\n",
              "              title=\"Convert this dataframe to an interactive table.\"\n",
              "              style=\"display:none;\">\n",
              "        \n",
              "  <svg xmlns=\"http://www.w3.org/2000/svg\" height=\"24px\"viewBox=\"0 0 24 24\"\n",
              "       width=\"24px\">\n",
              "    <path d=\"M0 0h24v24H0V0z\" fill=\"none\"/>\n",
              "    <path d=\"M18.56 5.44l.94 2.06.94-2.06 2.06-.94-2.06-.94-.94-2.06-.94 2.06-2.06.94zm-11 1L8.5 8.5l.94-2.06 2.06-.94-2.06-.94L8.5 2.5l-.94 2.06-2.06.94zm10 10l.94 2.06.94-2.06 2.06-.94-2.06-.94-.94-2.06-.94 2.06-2.06.94z\"/><path d=\"M17.41 7.96l-1.37-1.37c-.4-.4-.92-.59-1.43-.59-.52 0-1.04.2-1.43.59L10.3 9.45l-7.72 7.72c-.78.78-.78 2.05 0 2.83L4 21.41c.39.39.9.59 1.41.59.51 0 1.02-.2 1.41-.59l7.78-7.78 2.81-2.81c.8-.78.8-2.07 0-2.86zM5.41 20L4 18.59l7.72-7.72 1.47 1.35L5.41 20z\"/>\n",
              "  </svg>\n",
              "      </button>\n",
              "      \n",
              "  <style>\n",
              "    .colab-df-container {\n",
              "      display:flex;\n",
              "      flex-wrap:wrap;\n",
              "      gap: 12px;\n",
              "    }\n",
              "\n",
              "    .colab-df-convert {\n",
              "      background-color: #E8F0FE;\n",
              "      border: none;\n",
              "      border-radius: 50%;\n",
              "      cursor: pointer;\n",
              "      display: none;\n",
              "      fill: #1967D2;\n",
              "      height: 32px;\n",
              "      padding: 0 0 0 0;\n",
              "      width: 32px;\n",
              "    }\n",
              "\n",
              "    .colab-df-convert:hover {\n",
              "      background-color: #E2EBFA;\n",
              "      box-shadow: 0px 1px 2px rgba(60, 64, 67, 0.3), 0px 1px 3px 1px rgba(60, 64, 67, 0.15);\n",
              "      fill: #174EA6;\n",
              "    }\n",
              "\n",
              "    [theme=dark] .colab-df-convert {\n",
              "      background-color: #3B4455;\n",
              "      fill: #D2E3FC;\n",
              "    }\n",
              "\n",
              "    [theme=dark] .colab-df-convert:hover {\n",
              "      background-color: #434B5C;\n",
              "      box-shadow: 0px 1px 3px 1px rgba(0, 0, 0, 0.15);\n",
              "      filter: drop-shadow(0px 1px 2px rgba(0, 0, 0, 0.3));\n",
              "      fill: #FFFFFF;\n",
              "    }\n",
              "  </style>\n",
              "\n",
              "      <script>\n",
              "        const buttonEl =\n",
              "          document.querySelector('#df-13f6aa2f-e1ab-40f5-a23c-31f2985ddebf button.colab-df-convert');\n",
              "        buttonEl.style.display =\n",
              "          google.colab.kernel.accessAllowed ? 'block' : 'none';\n",
              "\n",
              "        async function convertToInteractive(key) {\n",
              "          const element = document.querySelector('#df-13f6aa2f-e1ab-40f5-a23c-31f2985ddebf');\n",
              "          const dataTable =\n",
              "            await google.colab.kernel.invokeFunction('convertToInteractive',\n",
              "                                                     [key], {});\n",
              "          if (!dataTable) return;\n",
              "\n",
              "          const docLinkHtml = 'Like what you see? Visit the ' +\n",
              "            '<a target=\"_blank\" href=https://colab.research.google.com/notebooks/data_table.ipynb>data table notebook</a>'\n",
              "            + ' to learn more about interactive tables.';\n",
              "          element.innerHTML = '';\n",
              "          dataTable['output_type'] = 'display_data';\n",
              "          await google.colab.output.renderOutput(dataTable, element);\n",
              "          const docLink = document.createElement('div');\n",
              "          docLink.innerHTML = docLinkHtml;\n",
              "          element.appendChild(docLink);\n",
              "        }\n",
              "      </script>\n",
              "    </div>\n",
              "  </div>\n",
              "  "
            ]
          },
          "metadata": {},
          "execution_count": 40
        }
      ]
    },
    {
      "cell_type": "code",
      "source": [
        "df3.shape"
      ],
      "metadata": {
        "id": "JoSQ7DUMcz2o",
        "outputId": "d2edc07d-3888-435a-c8bd-710b617e9703",
        "colab": {
          "base_uri": "https://localhost:8080/"
        }
      },
      "execution_count": null,
      "outputs": [
        {
          "output_type": "execute_result",
          "data": {
            "text/plain": [
              "(8693, 15)"
            ]
          },
          "metadata": {},
          "execution_count": 41
        }
      ]
    },
    {
      "cell_type": "markdown",
      "source": [
        "#### Changing bool columns to 0,1"
      ],
      "metadata": {
        "id": "9_HhXZhJjJrC"
      }
    },
    {
      "cell_type": "code",
      "source": [
        "## ======== Run this code(Don't change any code)======== ##\n",
        "\n",
        "df3['CryoSleep'] = df3['CryoSleep'].astype(int)\n",
        "df3['VIP'] = df['VIP'].astype(int)\n",
        "df3['Transported'] = df3['Transported'].astype(int)\n",
        "\n",
        "df3\n",
        "\n",
        "## ======== Run this code(Don't change any code)======== ##\n"
      ],
      "metadata": {
        "id": "6BGjAjk5emqP",
        "outputId": "3b7bedaa-20c4-45af-f415-e628fba30ac6",
        "colab": {
          "base_uri": "https://localhost:8080/",
          "height": 423
        }
      },
      "execution_count": null,
      "outputs": [
        {
          "output_type": "execute_result",
          "data": {
            "text/plain": [
              "      Andromeda  Cygnus  Virgo  CryoSleep  Age  VIP  RoomService  FoodCourt  \\\n",
              "0             1       0      0          0   39    0            0          0   \n",
              "1             1       0      0          0   24    0          109          9   \n",
              "2             1       0      0          0   58    1           43       3576   \n",
              "3             1       0      0          0   33    0            0       1283   \n",
              "4             1       0      0          0   16    0          303         70   \n",
              "...         ...     ...    ...        ...  ...  ...          ...        ...   \n",
              "8688          0       0      1          0   41    1            0       6819   \n",
              "8689          0       1      0          1   18    0            0          0   \n",
              "8690          1       0      0          0   26    0            0          0   \n",
              "8691          0       0      1          0   32    0            0       1049   \n",
              "8692          1       0      0          0   44    0          126       4688   \n",
              "\n",
              "      ShoppingMall   Spa  VRDeck  Transported  Earth  Europa  Mars  \n",
              "0                0     0       0            0      0       1     0  \n",
              "1               25   549      44            1      1       0     0  \n",
              "2                0  6715      49            0      0       1     0  \n",
              "3              371  3329     193            0      0       1     0  \n",
              "4              151   565       2            1      1       0     0  \n",
              "...            ...   ...     ...          ...    ...     ...   ...  \n",
              "8688             0  1643      74            0      0       1     0  \n",
              "8689             0     0       0            0      1       0     0  \n",
              "8690          1872     1       0            1      1       0     0  \n",
              "8691             0   353    3235            0      0       1     0  \n",
              "8692             0     0      12            1      0       1     0  \n",
              "\n",
              "[8693 rows x 15 columns]"
            ],
            "text/html": [
              "\n",
              "  <div id=\"df-77a7ae8c-e3c0-43d1-8841-890c307a8b28\">\n",
              "    <div class=\"colab-df-container\">\n",
              "      <div>\n",
              "<style scoped>\n",
              "    .dataframe tbody tr th:only-of-type {\n",
              "        vertical-align: middle;\n",
              "    }\n",
              "\n",
              "    .dataframe tbody tr th {\n",
              "        vertical-align: top;\n",
              "    }\n",
              "\n",
              "    .dataframe thead th {\n",
              "        text-align: right;\n",
              "    }\n",
              "</style>\n",
              "<table border=\"1\" class=\"dataframe\">\n",
              "  <thead>\n",
              "    <tr style=\"text-align: right;\">\n",
              "      <th></th>\n",
              "      <th>Andromeda</th>\n",
              "      <th>Cygnus</th>\n",
              "      <th>Virgo</th>\n",
              "      <th>CryoSleep</th>\n",
              "      <th>Age</th>\n",
              "      <th>VIP</th>\n",
              "      <th>RoomService</th>\n",
              "      <th>FoodCourt</th>\n",
              "      <th>ShoppingMall</th>\n",
              "      <th>Spa</th>\n",
              "      <th>VRDeck</th>\n",
              "      <th>Transported</th>\n",
              "      <th>Earth</th>\n",
              "      <th>Europa</th>\n",
              "      <th>Mars</th>\n",
              "    </tr>\n",
              "  </thead>\n",
              "  <tbody>\n",
              "    <tr>\n",
              "      <th>0</th>\n",
              "      <td>1</td>\n",
              "      <td>0</td>\n",
              "      <td>0</td>\n",
              "      <td>0</td>\n",
              "      <td>39</td>\n",
              "      <td>0</td>\n",
              "      <td>0</td>\n",
              "      <td>0</td>\n",
              "      <td>0</td>\n",
              "      <td>0</td>\n",
              "      <td>0</td>\n",
              "      <td>0</td>\n",
              "      <td>0</td>\n",
              "      <td>1</td>\n",
              "      <td>0</td>\n",
              "    </tr>\n",
              "    <tr>\n",
              "      <th>1</th>\n",
              "      <td>1</td>\n",
              "      <td>0</td>\n",
              "      <td>0</td>\n",
              "      <td>0</td>\n",
              "      <td>24</td>\n",
              "      <td>0</td>\n",
              "      <td>109</td>\n",
              "      <td>9</td>\n",
              "      <td>25</td>\n",
              "      <td>549</td>\n",
              "      <td>44</td>\n",
              "      <td>1</td>\n",
              "      <td>1</td>\n",
              "      <td>0</td>\n",
              "      <td>0</td>\n",
              "    </tr>\n",
              "    <tr>\n",
              "      <th>2</th>\n",
              "      <td>1</td>\n",
              "      <td>0</td>\n",
              "      <td>0</td>\n",
              "      <td>0</td>\n",
              "      <td>58</td>\n",
              "      <td>1</td>\n",
              "      <td>43</td>\n",
              "      <td>3576</td>\n",
              "      <td>0</td>\n",
              "      <td>6715</td>\n",
              "      <td>49</td>\n",
              "      <td>0</td>\n",
              "      <td>0</td>\n",
              "      <td>1</td>\n",
              "      <td>0</td>\n",
              "    </tr>\n",
              "    <tr>\n",
              "      <th>3</th>\n",
              "      <td>1</td>\n",
              "      <td>0</td>\n",
              "      <td>0</td>\n",
              "      <td>0</td>\n",
              "      <td>33</td>\n",
              "      <td>0</td>\n",
              "      <td>0</td>\n",
              "      <td>1283</td>\n",
              "      <td>371</td>\n",
              "      <td>3329</td>\n",
              "      <td>193</td>\n",
              "      <td>0</td>\n",
              "      <td>0</td>\n",
              "      <td>1</td>\n",
              "      <td>0</td>\n",
              "    </tr>\n",
              "    <tr>\n",
              "      <th>4</th>\n",
              "      <td>1</td>\n",
              "      <td>0</td>\n",
              "      <td>0</td>\n",
              "      <td>0</td>\n",
              "      <td>16</td>\n",
              "      <td>0</td>\n",
              "      <td>303</td>\n",
              "      <td>70</td>\n",
              "      <td>151</td>\n",
              "      <td>565</td>\n",
              "      <td>2</td>\n",
              "      <td>1</td>\n",
              "      <td>1</td>\n",
              "      <td>0</td>\n",
              "      <td>0</td>\n",
              "    </tr>\n",
              "    <tr>\n",
              "      <th>...</th>\n",
              "      <td>...</td>\n",
              "      <td>...</td>\n",
              "      <td>...</td>\n",
              "      <td>...</td>\n",
              "      <td>...</td>\n",
              "      <td>...</td>\n",
              "      <td>...</td>\n",
              "      <td>...</td>\n",
              "      <td>...</td>\n",
              "      <td>...</td>\n",
              "      <td>...</td>\n",
              "      <td>...</td>\n",
              "      <td>...</td>\n",
              "      <td>...</td>\n",
              "      <td>...</td>\n",
              "    </tr>\n",
              "    <tr>\n",
              "      <th>8688</th>\n",
              "      <td>0</td>\n",
              "      <td>0</td>\n",
              "      <td>1</td>\n",
              "      <td>0</td>\n",
              "      <td>41</td>\n",
              "      <td>1</td>\n",
              "      <td>0</td>\n",
              "      <td>6819</td>\n",
              "      <td>0</td>\n",
              "      <td>1643</td>\n",
              "      <td>74</td>\n",
              "      <td>0</td>\n",
              "      <td>0</td>\n",
              "      <td>1</td>\n",
              "      <td>0</td>\n",
              "    </tr>\n",
              "    <tr>\n",
              "      <th>8689</th>\n",
              "      <td>0</td>\n",
              "      <td>1</td>\n",
              "      <td>0</td>\n",
              "      <td>1</td>\n",
              "      <td>18</td>\n",
              "      <td>0</td>\n",
              "      <td>0</td>\n",
              "      <td>0</td>\n",
              "      <td>0</td>\n",
              "      <td>0</td>\n",
              "      <td>0</td>\n",
              "      <td>0</td>\n",
              "      <td>1</td>\n",
              "      <td>0</td>\n",
              "      <td>0</td>\n",
              "    </tr>\n",
              "    <tr>\n",
              "      <th>8690</th>\n",
              "      <td>1</td>\n",
              "      <td>0</td>\n",
              "      <td>0</td>\n",
              "      <td>0</td>\n",
              "      <td>26</td>\n",
              "      <td>0</td>\n",
              "      <td>0</td>\n",
              "      <td>0</td>\n",
              "      <td>1872</td>\n",
              "      <td>1</td>\n",
              "      <td>0</td>\n",
              "      <td>1</td>\n",
              "      <td>1</td>\n",
              "      <td>0</td>\n",
              "      <td>0</td>\n",
              "    </tr>\n",
              "    <tr>\n",
              "      <th>8691</th>\n",
              "      <td>0</td>\n",
              "      <td>0</td>\n",
              "      <td>1</td>\n",
              "      <td>0</td>\n",
              "      <td>32</td>\n",
              "      <td>0</td>\n",
              "      <td>0</td>\n",
              "      <td>1049</td>\n",
              "      <td>0</td>\n",
              "      <td>353</td>\n",
              "      <td>3235</td>\n",
              "      <td>0</td>\n",
              "      <td>0</td>\n",
              "      <td>1</td>\n",
              "      <td>0</td>\n",
              "    </tr>\n",
              "    <tr>\n",
              "      <th>8692</th>\n",
              "      <td>1</td>\n",
              "      <td>0</td>\n",
              "      <td>0</td>\n",
              "      <td>0</td>\n",
              "      <td>44</td>\n",
              "      <td>0</td>\n",
              "      <td>126</td>\n",
              "      <td>4688</td>\n",
              "      <td>0</td>\n",
              "      <td>0</td>\n",
              "      <td>12</td>\n",
              "      <td>1</td>\n",
              "      <td>0</td>\n",
              "      <td>1</td>\n",
              "      <td>0</td>\n",
              "    </tr>\n",
              "  </tbody>\n",
              "</table>\n",
              "<p>8693 rows × 15 columns</p>\n",
              "</div>\n",
              "      <button class=\"colab-df-convert\" onclick=\"convertToInteractive('df-77a7ae8c-e3c0-43d1-8841-890c307a8b28')\"\n",
              "              title=\"Convert this dataframe to an interactive table.\"\n",
              "              style=\"display:none;\">\n",
              "        \n",
              "  <svg xmlns=\"http://www.w3.org/2000/svg\" height=\"24px\"viewBox=\"0 0 24 24\"\n",
              "       width=\"24px\">\n",
              "    <path d=\"M0 0h24v24H0V0z\" fill=\"none\"/>\n",
              "    <path d=\"M18.56 5.44l.94 2.06.94-2.06 2.06-.94-2.06-.94-.94-2.06-.94 2.06-2.06.94zm-11 1L8.5 8.5l.94-2.06 2.06-.94-2.06-.94L8.5 2.5l-.94 2.06-2.06.94zm10 10l.94 2.06.94-2.06 2.06-.94-2.06-.94-.94-2.06-.94 2.06-2.06.94z\"/><path d=\"M17.41 7.96l-1.37-1.37c-.4-.4-.92-.59-1.43-.59-.52 0-1.04.2-1.43.59L10.3 9.45l-7.72 7.72c-.78.78-.78 2.05 0 2.83L4 21.41c.39.39.9.59 1.41.59.51 0 1.02-.2 1.41-.59l7.78-7.78 2.81-2.81c.8-.78.8-2.07 0-2.86zM5.41 20L4 18.59l7.72-7.72 1.47 1.35L5.41 20z\"/>\n",
              "  </svg>\n",
              "      </button>\n",
              "      \n",
              "  <style>\n",
              "    .colab-df-container {\n",
              "      display:flex;\n",
              "      flex-wrap:wrap;\n",
              "      gap: 12px;\n",
              "    }\n",
              "\n",
              "    .colab-df-convert {\n",
              "      background-color: #E8F0FE;\n",
              "      border: none;\n",
              "      border-radius: 50%;\n",
              "      cursor: pointer;\n",
              "      display: none;\n",
              "      fill: #1967D2;\n",
              "      height: 32px;\n",
              "      padding: 0 0 0 0;\n",
              "      width: 32px;\n",
              "    }\n",
              "\n",
              "    .colab-df-convert:hover {\n",
              "      background-color: #E2EBFA;\n",
              "      box-shadow: 0px 1px 2px rgba(60, 64, 67, 0.3), 0px 1px 3px 1px rgba(60, 64, 67, 0.15);\n",
              "      fill: #174EA6;\n",
              "    }\n",
              "\n",
              "    [theme=dark] .colab-df-convert {\n",
              "      background-color: #3B4455;\n",
              "      fill: #D2E3FC;\n",
              "    }\n",
              "\n",
              "    [theme=dark] .colab-df-convert:hover {\n",
              "      background-color: #434B5C;\n",
              "      box-shadow: 0px 1px 3px 1px rgba(0, 0, 0, 0.15);\n",
              "      filter: drop-shadow(0px 1px 2px rgba(0, 0, 0, 0.3));\n",
              "      fill: #FFFFFF;\n",
              "    }\n",
              "  </style>\n",
              "\n",
              "      <script>\n",
              "        const buttonEl =\n",
              "          document.querySelector('#df-77a7ae8c-e3c0-43d1-8841-890c307a8b28 button.colab-df-convert');\n",
              "        buttonEl.style.display =\n",
              "          google.colab.kernel.accessAllowed ? 'block' : 'none';\n",
              "\n",
              "        async function convertToInteractive(key) {\n",
              "          const element = document.querySelector('#df-77a7ae8c-e3c0-43d1-8841-890c307a8b28');\n",
              "          const dataTable =\n",
              "            await google.colab.kernel.invokeFunction('convertToInteractive',\n",
              "                                                     [key], {});\n",
              "          if (!dataTable) return;\n",
              "\n",
              "          const docLinkHtml = 'Like what you see? Visit the ' +\n",
              "            '<a target=\"_blank\" href=https://colab.research.google.com/notebooks/data_table.ipynb>data table notebook</a>'\n",
              "            + ' to learn more about interactive tables.';\n",
              "          element.innerHTML = '';\n",
              "          dataTable['output_type'] = 'display_data';\n",
              "          await google.colab.output.renderOutput(dataTable, element);\n",
              "          const docLink = document.createElement('div');\n",
              "          docLink.innerHTML = docLinkHtml;\n",
              "          element.appendChild(docLink);\n",
              "        }\n",
              "      </script>\n",
              "    </div>\n",
              "  </div>\n",
              "  "
            ]
          },
          "metadata": {},
          "execution_count": 44
        }
      ]
    },
    {
      "cell_type": "markdown",
      "source": [
        "#### Split the data into train and test"
      ],
      "metadata": {
        "id": "vz-ytNV0jRmi"
      }
    },
    {
      "cell_type": "code",
      "source": [
        "## ======== YOUR CODE HERE ======== ##\n",
        "\n",
        "## Test size should be 15% of the full dataset and use random state = 2022\n",
        "from sklearn.linear_model import LinearRegression\n",
        "model=LinearRegression()\n",
        "from sklearn.model_selection import train_test_split\n",
        "\n",
        "X = df3.drop('Transported',axis='columns')\n",
        "y=df3.Transported\n",
        "\n",
        "X_train, X_test, y_train, y_test = train_test_split(X,y,test_size=0.15,random_state=2022)\n",
        "\n",
        "\n",
        "\n",
        "## ================================ ##"
      ],
      "metadata": {
        "id": "zMuBNwpWhZRy"
      },
      "execution_count": null,
      "outputs": []
    },
    {
      "cell_type": "code",
      "source": [
        "## ======== YOUR CODE HERE ======== ##\n",
        "\n",
        "   ## Let us print the shapes:\n",
        "\n",
        "print(\"X_train:\",X_train.shape ) # X_train\n",
        "print(\"X_test:\",X_test.shape) # X_test\n",
        "print(\"y_train:\",y_train.shape) # y_train\n",
        "print(\"y_test:\",y_test.shape) # y_test\n",
        "\n",
        "## ================================ ##"
      ],
      "metadata": {
        "id": "VAD29hRbjgYY",
        "outputId": "def57d40-77d8-41d6-dc6c-2c718b8ac8df",
        "colab": {
          "base_uri": "https://localhost:8080/"
        }
      },
      "execution_count": null,
      "outputs": [
        {
          "output_type": "stream",
          "name": "stdout",
          "text": [
            "X_train: (7389, 14)\n",
            "X_test: (1304, 14)\n",
            "y_train: (7389,)\n",
            "y_test: (1304,)\n"
          ]
        }
      ]
    },
    {
      "cell_type": "markdown",
      "source": [
        "#### Scale the data using Standard Scaler"
      ],
      "metadata": {
        "id": "bIjWDrnEjpia"
      }
    },
    {
      "cell_type": "code",
      "source": [
        "## Use Standard Scaler to scale the train and test data\n",
        "\n",
        "## ======== YOUR CODE HERE ======== ##\n",
        "\n",
        "from sklearn.preprocessing import StandardScaler\n",
        "scaler = StandardScaler()\n",
        "X_train_scale = scaler.fit_transform(X_train)\n",
        "X_test_scale = scaler.fit_transform(X_test)\n",
        "\n",
        "\n",
        "\n",
        "\n",
        "\n",
        "## ================================ ##"
      ],
      "metadata": {
        "id": "naPlXlFhjkkI"
      },
      "execution_count": null,
      "outputs": []
    },
    {
      "cell_type": "markdown",
      "source": [
        "## <b>Logistic Regression</b>\n",
        "#### Use default parameters unless mentioned"
      ],
      "metadata": {
        "id": "5LQ24wfSjv0c"
      }
    },
    {
      "cell_type": "code",
      "source": [
        "## Use Random state = 2021 and fit the LR model\n",
        "\n",
        "## ======== YOUR CODE HERE ======== ##\n",
        "import numpy as np\n",
        "import pandas as pd\n",
        "import matplotlib as plt\n",
        "import seaborn as sns\n",
        "from sklearn.linear_model import LogisticRegression\n",
        "model=LogisticRegression(random_state=2021)\n",
        "model.fit(X_train_scale,y_train)\n",
        "y_pred=model.predict(X_test_scale)\n",
        "y_predicted=model.predict_proba(X_test_scale)\n",
        "model.score(X_test_scale,y_test)\n",
        "\n",
        "\n",
        "## ================================ ##"
      ],
      "metadata": {
        "id": "Q_05utrBjsEY",
        "outputId": "d07975a9-c9bc-44ea-9fda-eb613c5e3d57",
        "colab": {
          "base_uri": "https://localhost:8080/"
        }
      },
      "execution_count": null,
      "outputs": [
        {
          "output_type": "execute_result",
          "data": {
            "text/plain": [
              "0.7906441717791411"
            ]
          },
          "metadata": {},
          "execution_count": 97
        }
      ]
    },
    {
      "cell_type": "markdown",
      "source": [
        "#### Plot confusion matrix"
      ],
      "metadata": {
        "id": "tTnclsr6kGzY"
      }
    },
    {
      "cell_type": "code",
      "source": [
        "## ======== YOUR CODE HERE ======== ##\n",
        "\n",
        "\n",
        "from sklearn.metrics import confusion_matrix\n",
        "\n",
        "\n",
        "\n",
        "\n",
        "cm = confusion_matrix(y_test, y_pred)\n",
        "cm_plot = sns.heatmap(cm,fmt=\"g\",annot=True,xticklabels=['Transported','not transported '] ,yticklabels=['Transported','not transported '],cmap='Blues')\n",
        "cm_plot.set_xlabel('Predicted Values')\n",
        "cm_plot.set_ylabel('Actual Values')\n",
        "cm_plot.set_title('Confusion Matrix ', size=16)\n",
        "\n",
        "\n",
        "## ================================ ##"
      ],
      "metadata": {
        "id": "OK6afSwBj_2S",
        "outputId": "a84fbfca-ddca-483f-a7e2-827e26e14c28",
        "colab": {
          "base_uri": "https://localhost:8080/",
          "height": 492
        }
      },
      "execution_count": null,
      "outputs": [
        {
          "output_type": "execute_result",
          "data": {
            "text/plain": [
              "Text(0.5, 1.0, 'Confusion Matrix ')"
            ]
          },
          "metadata": {},
          "execution_count": 98
        },
        {
          "output_type": "display_data",
          "data": {
            "text/plain": [
              "<Figure size 640x480 with 2 Axes>"
            ],
            "image/png": "[encoded data removed]"
          },
          "metadata": {}
        }
      ]
    },
    {
      "cell_type": "markdown",
      "source": [
        "#### Print classification report"
      ],
      "metadata": {
        "id": "2CdCZHpZkdov"
      }
    },
    {
      "cell_type": "code",
      "source": [
        "## ======== YOUR CODE HERE ======== ##\n",
        "from sklearn.metrics import classification_report\n",
        "print(classification_report(y_test,y_pred))\n",
        "\n",
        "\n",
        "## ================================ ##"
      ],
      "metadata": {
        "id": "pLVPxS33kPlI",
        "outputId": "e4f88dae-7796-4679-f082-3806f9c27ef8",
        "colab": {
          "base_uri": "https://localhost:8080/"
        }
      },
      "execution_count": null,
      "outputs": [
        {
          "output_type": "stream",
          "name": "stdout",
          "text": [
            "              precision    recall  f1-score   support\n",
            "\n",
            "           0       0.78      0.80      0.79       637\n",
            "           1       0.80      0.78      0.79       667\n",
            "\n",
            "    accuracy                           0.79      1304\n",
            "   macro avg       0.79      0.79      0.79      1304\n",
            "weighted avg       0.79      0.79      0.79      1304\n",
            "\n"
          ]
        }
      ]
    },
    {
      "cell_type": "markdown",
      "source": [
        "#### Print accuracy score"
      ],
      "metadata": {
        "id": "dsCHjnQxlB6d"
      }
    },
    {
      "cell_type": "code",
      "source": [
        "## ======== YOUR CODE HERE ======== ##\n",
        "\n",
        "from sklearn.metrics import accuracy_score\n",
        "accuracy_score(y_test,y_pred)\n",
        "\n",
        "## ================================ ##"
      ],
      "metadata": {
        "id": "fn-CKB9Gkn9X",
        "outputId": "72424334-0a90-4823-ed3a-47386225c505",
        "colab": {
          "base_uri": "https://localhost:8080/"
        }
      },
      "execution_count": null,
      "outputs": [
        {
          "output_type": "execute_result",
          "data": {
            "text/plain": [
              "0.7906441717791411"
            ]
          },
          "metadata": {},
          "execution_count": 100
        }
      ]
    },
    {
      "cell_type": "markdown",
      "source": [
        "#### Print ROC-AUC score"
      ],
      "metadata": {
        "id": "GQXaQcUMlpuW"
      }
    },
    {
      "cell_type": "code",
      "source": [
        "## ======== YOUR CODE HERE ======== ##\n",
        "\n",
        "## Note: Use predict_proba!!! Read documentation/google it\n",
        "\n",
        "from sklearn.metrics import roc_auc_score\n",
        "y_pred_prob=y_predicted[:,1]\n",
        "roc_auc_score(y_test,y_pred_prob)\n",
        "\n",
        "\n",
        "## ================================ ##"
      ],
      "metadata": {
        "id": "peowPJH3lPQg",
        "outputId": "4fd560c6-6c0f-4502-a382-62392c8e7c8b",
        "colab": {
          "base_uri": "https://localhost:8080/"
        }
      },
      "execution_count": null,
      "outputs": [
        {
          "output_type": "execute_result",
          "data": {
            "text/plain": [
              "0.8783135904575187"
            ]
          },
          "metadata": {},
          "execution_count": 101
        }
      ]
    },
    {
      "cell_type": "markdown",
      "source": [
        "#### Plot ROC-AUC Curve"
      ],
      "metadata": {
        "id": "WxxoTYomqceD"
      }
    },
    {
      "cell_type": "code",
      "source": [
        "## ======== YOUR CODE HERE ======== ##\n",
        "\n",
        "## Set appropriate X label, Y label and Title for the graph\n",
        "\n",
        "from sklearn.metrics import roc_curve\n",
        "import matplotlib.pyplot as plt\n",
        "\n",
        "\n",
        "fpr,tpr,thresholds=roc_curve(y_test,y_pred_prob)\n",
        "plt.plot(fpr,tpr)\n",
        "plt.xlabel('False Positive Rate')\n",
        "plt.ylabel('True Positive Rate')\n",
        "plt.title('ROC CURVE')\n",
        "plt.legend()\n",
        "plt.show()\n",
        "\n",
        "\n",
        "\n",
        "## ================================ ##"
      ],
      "metadata": {
        "id": "pu-xnAORqhP1",
        "outputId": "0b417f2b-37f6-4a1e-bd83-7e3b621bca26",
        "colab": {
          "base_uri": "https://localhost:8080/",
          "height": 510
        }
      },
      "execution_count": null,
      "outputs": [
        {
          "output_type": "stream",
          "name": "stderr",
          "text": [
            "WARNING:matplotlib.legend:No artists with labels found to put in legend.  Note that artists whose label start with an underscore are ignored when legend() is called with no argument.\n"
          ]
        },
        {
          "output_type": "display_data",
          "data": {
            "text/plain": [
              "<Figure size 640x480 with 1 Axes>"
            ],
            "image/png": "[encoded data removed]"
          },
          "metadata": {}
        }
      ]
    },
    {
      "cell_type": "markdown",
      "source": [
        "#### Cross validation"
      ],
      "metadata": {
        "id": "UvxDjUoNrjYN"
      }
    },
    {
      "cell_type": "code",
      "source": [
        "## ======== YOUR CODE HERE ======== ##\n",
        "\n",
        "## cv=5\n",
        "from sklearn.model_selection import cross_val_score\n",
        "cross_val_score(model,X,y,cv=5)\n",
        "\n",
        "\n",
        "\n",
        "\n",
        "\n",
        "## ================================ ##"
      ],
      "metadata": {
        "id": "Jvx57Bx_rjBn",
        "outputId": "1338daf5-f065-472c-8331-c696c5ef28ae",
        "colab": {
          "base_uri": "https://localhost:8080/"
        }
      },
      "execution_count": null,
      "outputs": [
        {
          "output_type": "execute_result",
          "data": {
            "text/plain": [
              "array([0.77918344, 0.78608396, 0.78033353, 0.78193326, 0.79459148])"
            ]
          },
          "metadata": {},
          "execution_count": 103
        }
      ]
    },
    {
      "cell_type": "markdown",
      "source": [
        "## <b>SVM</b>\n",
        "#### Use default parameters unless mentioned"
      ],
      "metadata": {
        "id": "7hQ6KaXenOtN"
      }
    },
    {
      "cell_type": "code",
      "source": [
        "## ======== YOUR CODE HERE ======== ##\n",
        "\n",
        "## parameters: random_state = 2022, C=5, gamma='scale', kernel='rbf', probability=True\n",
        "from sklearn import svm\n",
        "model1=svm.SVC(random_state = 2022, C=5, gamma='scale', kernel='rbf', probability=True)\n",
        "model1.fit(X_train_scale,y_train)\n",
        "y_predsvm=model1.predict(X_test_scale)\n",
        "y_predictedsvm=model1.predict_proba(X_test_scale)\n",
        "model1.score(X_test_scale,y_test)\n",
        "\n",
        "\n",
        "## ================================ ##"
      ],
      "metadata": {
        "id": "CpY0U9gjmia_",
        "outputId": "a934a8ad-6bb6-4115-8acb-9a53c30a84bf",
        "colab": {
          "base_uri": "https://localhost:8080/"
        }
      },
      "execution_count": null,
      "outputs": [
        {
          "output_type": "execute_result",
          "data": {
            "text/plain": [
              "0.8021472392638037"
            ]
          },
          "metadata": {},
          "execution_count": 106
        }
      ]
    },
    {
      "cell_type": "markdown",
      "source": [
        "#### Plot confusion matrix"
      ],
      "metadata": {
        "id": "dnzmj8uaoXdC"
      }
    },
    {
      "cell_type": "code",
      "source": [
        "## ======== YOUR CODE HERE ======== ##\n",
        "\n",
        "## Use display labels as per your choice.\n",
        "\n",
        "## ======== YOUR CODE HERE ======== ##\n",
        "\n",
        "\n",
        "from sklearn.metrics import confusion_matrix\n",
        "\n",
        "\n",
        "\n",
        "\n",
        "cm = confusion_matrix(y_test, y_predsvm)\n",
        "cm_plot = sns.heatmap(cm,fmt=\"g\",annot=True,xticklabels=['Transported','not transported '] ,yticklabels=['Transported','not transported '],cmap='Blues')\n",
        "cm_plot.set_xlabel('Predicted Values')\n",
        "cm_plot.set_ylabel('Actual Values')\n",
        "cm_plot.set_title('Confusion Matrix ', size=16)\n",
        "\n",
        "\n",
        "## ================================ ##\n",
        "\n",
        "\n",
        "## ================================ ##"
      ],
      "metadata": {
        "id": "w_82c2Y0n0ed",
        "outputId": "bb385416-9dcf-4c43-ad62-4b0fb9350768",
        "colab": {
          "base_uri": "https://localhost:8080/",
          "height": 492
        }
      },
      "execution_count": null,
      "outputs": [
        {
          "output_type": "execute_result",
          "data": {
            "text/plain": [
              "Text(0.5, 1.0, 'Confusion Matrix ')"
            ]
          },
          "metadata": {},
          "execution_count": 107
        },
        {
          "output_type": "display_data",
          "data": {
            "text/plain": [
              "<Figure size 640x480 with 2 Axes>"
            ],
            "image/png": "[encoded data removed]"
          },
          "metadata": {}
        }
      ]
    },
    {
      "cell_type": "markdown",
      "source": [
        "#### Print classification report"
      ],
      "metadata": {
        "id": "rXnA65gGoi32"
      }
    },
    {
      "cell_type": "code",
      "source": [
        "## ======== YOUR CODE HERE ======== ##\n",
        "from sklearn.metrics import classification_report\n",
        "print(classification_report(y_test,y_predsvm))\n",
        "\n",
        "\n",
        "## ================================ ##"
      ],
      "metadata": {
        "id": "Ni3urDs2ofFu",
        "outputId": "ce18ed0a-4604-40eb-e818-651bec8c89b0",
        "colab": {
          "base_uri": "https://localhost:8080/"
        }
      },
      "execution_count": null,
      "outputs": [
        {
          "output_type": "stream",
          "name": "stdout",
          "text": [
            "              precision    recall  f1-score   support\n",
            "\n",
            "           0       0.80      0.79      0.80       637\n",
            "           1       0.80      0.81      0.81       667\n",
            "\n",
            "    accuracy                           0.80      1304\n",
            "   macro avg       0.80      0.80      0.80      1304\n",
            "weighted avg       0.80      0.80      0.80      1304\n",
            "\n"
          ]
        }
      ]
    },
    {
      "cell_type": "markdown",
      "source": [
        "#### Print accuracy score"
      ],
      "metadata": {
        "id": "TdNZjZ_yosP7"
      }
    },
    {
      "cell_type": "code",
      "source": [
        "## ======== YOUR CODE HERE ======== ##\n",
        "\n",
        "from sklearn.metrics import accuracy_score\n",
        "accuracy_score(y_test,y_predsvm)\n",
        "\n",
        "## ================================ ##"
      ],
      "metadata": {
        "id": "YycrkEZrolRo",
        "outputId": "3bd985b4-8cd1-499a-86d5-6cfc9ea3d6c9",
        "colab": {
          "base_uri": "https://localhost:8080/"
        }
      },
      "execution_count": null,
      "outputs": [
        {
          "output_type": "execute_result",
          "data": {
            "text/plain": [
              "0.8021472392638037"
            ]
          },
          "metadata": {},
          "execution_count": 111
        }
      ]
    },
    {
      "cell_type": "markdown",
      "source": [
        "#### Print ROC-AUC score"
      ],
      "metadata": {
        "id": "eKN9aDzvpGnB"
      }
    },
    {
      "cell_type": "code",
      "source": [
        "## ======== YOUR CODE HERE ======== ##\n",
        "\n",
        "## Note: Use predict_proba!!! Read documentation/google it\n",
        "\n",
        "\n",
        "\n",
        "from sklearn.metrics import roc_auc_score\n",
        "y_pred_probsvm=y_predictedsvm[:,1]\n",
        "roc_auc_score(y_test,y_pred_probsvm)\n",
        "\n",
        "\n",
        "## ================================ ##\n",
        "\n",
        "## ================================ ##"
      ],
      "metadata": {
        "id": "XFvSXf3upFix",
        "outputId": "3caedb1f-d43d-4337-989c-3830103e7940",
        "colab": {
          "base_uri": "https://localhost:8080/"
        }
      },
      "execution_count": null,
      "outputs": [
        {
          "output_type": "execute_result",
          "data": {
            "text/plain": [
              "0.8460267511456203"
            ]
          },
          "metadata": {},
          "execution_count": 112
        }
      ]
    },
    {
      "cell_type": "markdown",
      "source": [
        "#### Plot ROC-AUC curve"
      ],
      "metadata": {
        "id": "Zfehp2mOqVQy"
      }
    },
    {
      "cell_type": "code",
      "source": [
        "## ======== YOUR CODE HERE ======== ##\n",
        "\n",
        "## Set appropriate X label, Y label and Title for the graph\n",
        "\n",
        "from sklearn.metrics import roc_curve\n",
        "import matplotlib.pyplot as plt\n",
        "\n",
        "\n",
        "fpr,tpr,thresholds=roc_curve(y_test,y_pred_probsvm)\n",
        "plt.plot(fpr,tpr)\n",
        "plt.xlabel('False Positive Rate')\n",
        "plt.ylabel('True Positive Rate')\n",
        "plt.title('ROC CURVE')\n",
        "plt.legend()\n",
        "plt.show()\n",
        "\n",
        "\n",
        "\n",
        "## ================================ ##"
      ],
      "metadata": {
        "id": "Onuzz70ypaUg",
        "outputId": "3dd82176-3b70-4a30-e822-b84ccf66be66",
        "colab": {
          "base_uri": "https://localhost:8080/",
          "height": 510
        }
      },
      "execution_count": null,
      "outputs": [
        {
          "output_type": "stream",
          "name": "stderr",
          "text": [
            "WARNING:matplotlib.legend:No artists with labels found to put in legend.  Note that artists whose label start with an underscore are ignored when legend() is called with no argument.\n"
          ]
        },
        {
          "output_type": "display_data",
          "data": {
            "text/plain": [
              "<Figure size 640x480 with 1 Axes>"
            ],
            "image/png": "[encoded data removed]"
          },
          "metadata": {}
        }
      ]
    },
    {
      "cell_type": "markdown",
      "source": [
        "#### Cross validation"
      ],
      "metadata": {
        "id": "hA3c9iivrXNy"
      }
    },
    {
      "cell_type": "code",
      "source": [
        "## ======== YOUR CODE HERE ======== ##\n",
        "\n",
        "## cv=5\n",
        "from sklearn.model_selection import cross_val_score\n",
        "cross_val_score(model1,X,y,cv=5)\n",
        "\n",
        "\n",
        "\n",
        "\n",
        "\n",
        "## ================================ ##"
      ],
      "metadata": {
        "id": "4O0OlBkXqYYr",
        "outputId": "a2318c50-d455-4a8a-d30d-b6b6080d8015",
        "colab": {
          "base_uri": "https://localhost:8080/"
        }
      },
      "execution_count": null,
      "outputs": [
        {
          "output_type": "execute_result",
          "data": {
            "text/plain": [
              "array([0.77975848, 0.77458309, 0.78838413, 0.80207135, 0.79919448])"
            ]
          },
          "metadata": {},
          "execution_count": 114
        }
      ]
    },
    {
      "cell_type": "markdown",
      "source": [
        "# Congratulations! Assignment Completed!"
      ],
      "metadata": {
        "id": "HvRyJBGxuKIE"
      }
    }
  ]
}